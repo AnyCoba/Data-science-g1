{
 "cells": [
  {
   "cell_type": "code",
   "execution_count": 6,
   "metadata": {},
   "outputs": [],
   "source": [
    "from selenium import webdriver\n",
    "from selenium.webdriver.common.keys import Keys\n",
    "from selenium.webdriver.common.by import By\n",
    "\n",
    "from selenium.webdriver.chrome.service import Service\n",
    "\n",
    "# import urllib3 # urllib3 es un cliente HTTP potente y fácil de usar para Python.\n",
    "import re # Expresiones regulares \n",
    "import time\n",
    "import pandas as pd"
   ]
  },
  {
   "cell_type": "code",
   "execution_count": 35,
   "metadata": {},
   "outputs": [],
   "source": [
    "service = Service(executable_path='./chromedriver.exe')\n",
    "options = webdriver.ChromeOptions()\n",
    "driver = webdriver.Chrome(service=service, options=options)"
   ]
  },
  {
   "cell_type": "code",
   "execution_count": 36,
   "metadata": {},
   "outputs": [],
   "source": [
    "# Abre la página web\n",
    "driver.get(\"https://agentes.candelaenergia.es/#/sips\")"
   ]
  },
  {
   "cell_type": "code",
   "execution_count": 37,
   "metadata": {},
   "outputs": [],
   "source": [
    "# Encuentra los campos de empresa, usuario y contraseña por su nombre o cualquier otro atributo\n",
    "empresa_input = driver.find_element(By.NAME, 'empresaLogin')\n",
    "usuario_input = driver.find_element(By.NAME, 'usuario')\n",
    "contrasena_input = driver.find_element(By.NAME, 'password')\n",
    "\n",
    "# Ingresa las credenciales\n",
    "empresa_input.send_keys('CANDELA COMERCIALIZADORA, S.L ELECTRICIDAD')\n",
    "usuario_input.send_keys('CA001507')\n",
    "contrasena_input.send_keys('CI001-507/258071')"
   ]
  },
  {
   "cell_type": "code",
   "execution_count": 38,
   "metadata": {},
   "outputs": [],
   "source": [
    "# Encuentra el botón de \"Entrar\" por su clase (puedes usar otro selector según sea necesario)\n",
    "entrar_button = driver.find_element(By.CLASS_NAME, 'btn-white')\n",
    "\n",
    "# Haz clic en el botón usando JavaScript\n",
    "driver.execute_script(\"arguments[0].click();\", entrar_button)"
   ]
  },
  {
   "cell_type": "code",
   "execution_count": 39,
   "metadata": {},
   "outputs": [],
   "source": [
    "# Encuentra el enlace que representa la sección \"SIPS\" por su atributo href\n",
    "enlace_sips = driver.find_element(By.CSS_SELECTOR, 'a[href=\"#/sips\"]')\n",
    "\n",
    "# Haz clic en el enlace usando JavaScript\n",
    "driver.execute_script(\"arguments[0].click();\", enlace_sips)"
   ]
  },
  {
   "cell_type": "code",
   "execution_count": 40,
   "metadata": {},
   "outputs": [],
   "source": [
    "# Encuentra el campo de entrada por su ID (puedes usar otro selector según sea necesario)\n",
    "campo_input = driver.find_element(By.ID, 'input_6')\n",
    "\n",
    "# Ingresa el número deseado en el campo\n",
    "numero_a_ingresar = \"ES0022000008901010DC\"  # Reemplaza con el número que necesitas\n",
    "campo_input.send_keys(numero_a_ingresar)\n",
    "\n",
    "# Puedes también enviar una tecla \"Enter\" para confirmar el ingreso del número (opcional)\n",
    "campo_input.send_keys(Keys.RETURN)"
   ]
  },
  {
   "cell_type": "code",
   "execution_count": 41,
   "metadata": {},
   "outputs": [],
   "source": [
    "# Encuentra el botón \"Consultar\" por su clase (puedes usar otro selector según sea necesario)\n",
    "boton_consultar = driver.find_element(By.CLASS_NAME, 'md-raised')\n",
    "\n",
    "# Haz clic en el botón usando JavaScript\n",
    "driver.execute_script(\"arguments[0].click();\", boton_consultar)"
   ]
  }
 ],
 "metadata": {
  "kernelspec": {
   "display_name": "Python 3",
   "language": "python",
   "name": "python3"
  },
  "language_info": {
   "codemirror_mode": {
    "name": "ipython",
    "version": 3
   },
   "file_extension": ".py",
   "mimetype": "text/x-python",
   "name": "python",
   "nbconvert_exporter": "python",
   "pygments_lexer": "ipython3",
   "version": "3.11.5"
  }
 },
 "nbformat": 4,
 "nbformat_minor": 2
}
