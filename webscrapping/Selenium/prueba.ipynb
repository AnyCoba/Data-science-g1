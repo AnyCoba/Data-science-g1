{
 "cells": [
  {
   "cell_type": "code",
   "execution_count": 23,
   "metadata": {},
   "outputs": [],
   "source": [
    "from selenium import webdriver\n",
    "from selenium.webdriver.common.keys import Keys\n",
    "from selenium.webdriver.common.by import By\n",
    "\n",
    "from selenium.webdriver.chrome.service import Service\n",
    "\n",
    "\n",
    "import re \n",
    "import time\n",
    "import pandas as pd"
   ]
  },
  {
   "cell_type": "code",
   "execution_count": 24,
   "metadata": {},
   "outputs": [],
   "source": [
    "service = Service(executable_path='./chromedriver.exe')\n",
    "options = webdriver.ChromeOptions()\n",
    "driver = webdriver.Chrome(service=service, options=options)"
   ]
  },
  {
   "cell_type": "code",
   "execution_count": 25,
   "metadata": {},
   "outputs": [],
   "source": [
    "# Abre la página web\n",
    "driver.get(\"https://agentes.candelaenergia.es/#/sips\")"
   ]
  },
  {
   "cell_type": "code",
   "execution_count": 26,
   "metadata": {},
   "outputs": [],
   "source": [
    "# Encuentra los campos de empresa, usuario y contraseña por su nombre o cualquier otro atributo\n",
    "empresa_input = driver.find_element(By.NAME, 'empresaLogin')\n",
    "usuario_input = driver.find_element(By.NAME, 'usuario')\n",
    "contrasena_input = driver.find_element(By.NAME, 'password')\n",
    "\n",
    "# Ingresa las credenciales\n",
    "empresa_input.send_keys('CANDELA COMERCIALIZADORA, S.L ELECTRICIDAD')\n",
    "usuario_input.send_keys('CA001507')\n",
    "contrasena_input.send_keys('CI001-507/258071')"
   ]
  },
  {
   "cell_type": "code",
   "execution_count": 27,
   "metadata": {},
   "outputs": [],
   "source": [
    "# Encuentra el botón de \"Entrar\" por su clase (puedes usar otro selector según sea necesario)\n",
    "entrar_button = driver.find_element(By.CLASS_NAME, 'btn-white')\n",
    "\n",
    "# Haz clic en el botón usando JavaScript\n",
    "driver.execute_script(\"arguments[0].click();\", entrar_button)"
   ]
  },
  {
   "cell_type": "code",
   "execution_count": 28,
   "metadata": {},
   "outputs": [],
   "source": [
    "# Encuentra el enlace que representa la sección \"SIPS\" por su atributo href\n",
    "enlace_sips = driver.find_element(By.CSS_SELECTOR, 'a[href=\"#/sips\"]')\n",
    "\n",
    "# Haz clic en el enlace usando JavaScript\n",
    "driver.execute_script(\"arguments[0].click();\", enlace_sips)"
   ]
  },
  {
   "cell_type": "code",
   "execution_count": 29,
   "metadata": {},
   "outputs": [],
   "source": [
    "# Encuentra el campo de entrada por su ID (puedes usar otro selector según sea necesario)\n",
    "campo_input = driver.find_element(By.ID, 'input_6')\n",
    "\n",
    "# Ingresa el número deseado en el campo\n",
    "numero_a_ingresar = \"ES0022000008901010DC\"  # Reemplaza con el número que necesitas\n",
    "campo_input.send_keys(numero_a_ingresar)\n",
    "\n",
    "# Puedes también enviar una tecla \"Enter\" para confirmar el ingreso del número (opcional)\n",
    "campo_input.send_keys(Keys.RETURN)"
   ]
  },
  {
   "cell_type": "code",
   "execution_count": 30,
   "metadata": {},
   "outputs": [],
   "source": [
    "# Encuentra el botón \"Consultar\" por su clase (puedes usar otro selector según sea necesario)\n",
    "boton_consultar = driver.find_element(By.CLASS_NAME, 'md-raised')\n",
    "\n",
    "# Haz clic en el botón usando JavaScript\n",
    "driver.execute_script(\"arguments[0].click();\", boton_consultar)"
   ]
  },
  {
   "cell_type": "code",
   "execution_count": 41,
   "metadata": {},
   "outputs": [],
   "source": [
    "municipio_element = driver.find_element(By.XPATH, \"//td[@class='md-cell ng-binding' and @ng-show='MostrarSipsMunicipio']\")\n",
    "municipio = municipio_element.text\n",
    "\n",
    "provincia_element = driver.find_element(By.XPATH, \"//td[@class='md-cell ng-binding' and @ng-show='MostrarSipsProvincia']\")\n",
    "provincia = provincia_element.text\n",
    "\n",
    "CP_element = driver.find_element(By.XPATH, \"//td[@class='md-cell ng-binding' and @ng-show='MostrarSipsCodigoPostal']\")\n",
    "cp = CP_element.text\n",
    "\n",
    "tarifa_element = driver.find_element(By.ID, \"SipsTarifa\")\n",
    "tarifa = tarifa_element.text\n",
    "\n",
    "cons_anu_element = driver.find_element(By.XPATH, \"//td[@class='md-cell ng-binding' and @ng-show='MostrarSipsConsumoAnual && VerEnergia']\")\n",
    "cons_anu = cons_anu_element.text\n",
    "\n",
    "cons_anu_p1_element = driver.find_element(By.XPATH, \"//td[@class='md-cell ng-binding' and @ng-show='MostrarSipsConsumoP1 && VerEnergia']\")\n",
    "cons_anu_p1 = cons_anu_p1_element.text\n",
    "\n",
    "cons_anu_p2_element = driver.find_element(By.XPATH, \"//td[@class='md-cell ng-binding' and @ng-show='MostrarSipsConsumoP2 && VerEnergia']\")\n",
    "cons_anu_p2 = cons_anu_p2_element.text\n",
    "\n",
    "cons_anu_p3_element = driver.find_element(By.XPATH, \"//td[@class='md-cell ng-binding' and @ng-show='MostrarSipsConsumoP3 && VerEnergia']\")\n",
    "cons_anu_p3 = cons_anu_p3_element.text\n",
    "\n",
    "cons_anu_p4_element = driver.find_element(By.XPATH, \"//td[@class='md-cell ng-binding' and @ng-show='MostrarSipsConsumoP4 && VerEnergia']\")\n",
    "cons_anu_p4 = cons_anu_p4_element.text\n",
    "\n",
    "cons_anu_p5_element = driver.find_element(By.XPATH, \"//td[@class='md-cell ng-binding' and @ng-show='MostrarSipsConsumoP5 && VerEnergia']\")\n",
    "cons_anu_p5 = cons_anu_p5_element.text\n",
    "\n",
    "cons_anu_p6_element = driver.find_element(By.XPATH, \"//td[@class='md-cell ng-binding' and @ng-show='MostrarSipsConsumoP6 && VerEnergia']\")\n",
    "cons_anu_p6 = cons_anu_p6_element.text\n",
    "\n",
    "p1_element = driver.find_element(By.ID, \"PotenciaP1\")\n",
    "p1 = p1_element.text\n",
    "\n",
    "p2_element = driver.find_element(By.ID, \"PotenciaP2\")\n",
    "p2 = p2_element.text\n",
    "\n",
    "p3_element = driver.find_element(By.ID, \"PotenciaP3\")\n",
    "p3 = p3_element.text\n",
    "\n",
    "p4_element = driver.find_element(By.ID, \"PotenciaP4\")\n",
    "p4 = p4_element.text\n",
    "\n",
    "p5_element = driver.find_element(By.ID, \"PotenciaP5\")\n",
    "p5 = p5_element.text\n",
    "\n",
    "p6_element = driver.find_element(By.ID, \"PotenciaP6\")\n",
    "p6 = p6_element.text\n",
    "\n",
    "distribuidora_element = driver.find_element(By.XPATH, \"//td[@class='md-cell ng-binding' and @ng-show='MostrarSipsDistribuidora']\")\n",
    "distribuidora = distribuidora_element.text\n",
    "\n",
    "ult_cam_comer_element = driver.find_element(By.XPATH, \"//td[@class='md-cell ng-binding' and @ng-show='MostrarSipsUltimoCambioComercializadora']\")\n",
    "ult_cam_comer = ult_cam_comer_element.text\n",
    "\n",
    "bie_element = driver.find_element(By.XPATH, \"//td[@class='md-cell ng-binding' and @ng-show='MostrarSipsUltimoCambioBIE']\")\n",
    "bie = bie_element.text\n",
    "\n",
    "tension_element = driver.find_element(By.XPATH, \"//any[@ng-switch-when='02']\")\n",
    "tension = tension_element.text\n",
    "\n",
    "ult_cam_contra_element = driver.find_element(By.XPATH, \"//td[@class='md-cell ng-binding' and @ng-show='MostrarSipsUltimoCambioContrato']\")\n",
    "ult_cam_contr = ult_cam_contra_element.text\n",
    "\n",
    "\n",
    "# Crearmos un dataframe con los datos recogidos\n",
    "df = pd.DataFrame({'Municipio': [municipio], 'Provincia': [provincia], 'Codigo Postal':[cp], 'Tarifa' : [tarifa], 'Consumo Anual': [cons_anu], 'Consumo Anual P1': [cons_anu_p1], 'Consumo Anual P2': [cons_anu_p2], 'Consumo Anual P3': [cons_anu_p3], 'Consumo Anual P4': [cons_anu_p4], 'Consumo Anual P5': [cons_anu_p5], 'Consumo Anual P6': [cons_anu_p6], 'P1': [p1],'P2': [p2], 'P3': [p3],'P4': [p4], 'P5': [p5], 'P6': [p6], 'Distribuidora' : [distribuidora], 'Cambio comercializadora': [ult_cam_comer], 'Ultimo cambio BIE': [bie], 'Tensión' : [tension], 'Ultimo Cambio Contrato': [ult_cam_contr]})"
   ]
  },
  {
   "cell_type": "code",
   "execution_count": 43,
   "metadata": {},
   "outputs": [
    {
     "data": {
      "text/html": [
       "<div>\n",
       "<style scoped>\n",
       "    .dataframe tbody tr th:only-of-type {\n",
       "        vertical-align: middle;\n",
       "    }\n",
       "\n",
       "    .dataframe tbody tr th {\n",
       "        vertical-align: top;\n",
       "    }\n",
       "\n",
       "    .dataframe thead th {\n",
       "        text-align: right;\n",
       "    }\n",
       "</style>\n",
       "<table border=\"1\" class=\"dataframe\">\n",
       "  <thead>\n",
       "    <tr style=\"text-align: right;\">\n",
       "      <th></th>\n",
       "      <th>Municipio</th>\n",
       "      <th>Provincia</th>\n",
       "      <th>Codigo Postal</th>\n",
       "      <th>Tarifa</th>\n",
       "      <th>Consumo Anual</th>\n",
       "      <th>Consumo Anual P1</th>\n",
       "      <th>Consumo Anual P2</th>\n",
       "      <th>Consumo Anual P3</th>\n",
       "      <th>Consumo Anual P4</th>\n",
       "      <th>Consumo Anual P5</th>\n",
       "      <th>...</th>\n",
       "      <th>P2</th>\n",
       "      <th>P3</th>\n",
       "      <th>P4</th>\n",
       "      <th>P5</th>\n",
       "      <th>P6</th>\n",
       "      <th>Distribuidora</th>\n",
       "      <th>Cambio comercializadora</th>\n",
       "      <th>Ultimo cambio BIE</th>\n",
       "      <th>Tensión</th>\n",
       "      <th>Ultimo Cambio Contrato</th>\n",
       "    </tr>\n",
       "  </thead>\n",
       "  <tbody>\n",
       "    <tr>\n",
       "      <th>0</th>\n",
       "      <td>Madrid</td>\n",
       "      <td>Madrid</td>\n",
       "      <td>28051</td>\n",
       "      <td>2.0TD</td>\n",
       "      <td>2.468 KWh</td>\n",
       "      <td>594 KWh</td>\n",
       "      <td>731 KWh</td>\n",
       "      <td>1143 KWh</td>\n",
       "      <td>0 KWh</td>\n",
       "      <td>0 KWh</td>\n",
       "      <td>...</td>\n",
       "      <td>3,4</td>\n",
       "      <td></td>\n",
       "      <td></td>\n",
       "      <td></td>\n",
       "      <td></td>\n",
       "      <td>UNION FENOSA DISTRIBUCION, S.A.</td>\n",
       "      <td>19/11/2020</td>\n",
       "      <td>10/02/2011</td>\n",
       "      <td>1X230</td>\n",
       "      <td>01/06/2021</td>\n",
       "    </tr>\n",
       "  </tbody>\n",
       "</table>\n",
       "<p>1 rows × 22 columns</p>\n",
       "</div>"
      ],
      "text/plain": [
       "  Municipio Provincia Codigo Postal Tarifa Consumo Anual Consumo Anual P1  \\\n",
       "0    Madrid    Madrid         28051  2.0TD     2.468 KWh          594 KWh   \n",
       "\n",
       "  Consumo Anual P2 Consumo Anual P3 Consumo Anual P4 Consumo Anual P5  ...  \\\n",
       "0          731 KWh         1143 KWh            0 KWh            0 KWh  ...   \n",
       "\n",
       "    P2 P3 P4 P5 P6                    Distribuidora Cambio comercializadora  \\\n",
       "0  3,4              UNION FENOSA DISTRIBUCION, S.A.              19/11/2020   \n",
       "\n",
       "  Ultimo cambio BIE Tensión Ultimo Cambio Contrato  \n",
       "0        10/02/2011   1X230             01/06/2021  \n",
       "\n",
       "[1 rows x 22 columns]"
      ]
     },
     "execution_count": 43,
     "metadata": {},
     "output_type": "execute_result"
    }
   ],
   "source": [
    "df"
   ]
  }
 ],
 "metadata": {
  "kernelspec": {
   "display_name": "Python 3",
   "language": "python",
   "name": "python3"
  },
  "language_info": {
   "codemirror_mode": {
    "name": "ipython",
    "version": 3
   },
   "file_extension": ".py",
   "mimetype": "text/x-python",
   "name": "python",
   "nbconvert_exporter": "python",
   "pygments_lexer": "ipython3",
   "version": "3.11.5"
  }
 },
 "nbformat": 4,
 "nbformat_minor": 2
}
